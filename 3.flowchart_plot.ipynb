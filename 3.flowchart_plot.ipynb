{
 "cells": [
  {
   "cell_type": "code",
   "execution_count": null,
   "metadata": {},
   "outputs": [],
   "source": [
    "from matplotlib import cm\n",
    "import piscola as pisco\n",
    "import matplotlib.pyplot as plt\n",
    "import numpy as np"
   ]
  },
  {
   "cell_type": "code",
   "execution_count": null,
   "metadata": {},
   "outputs": [],
   "source": [
    "sn = pisco.call_sn('sn2004eo', directory='data_pantheon/')\n",
    "for band in sn.bands:\n",
    "    sn.data[band]['mag_sys'] = 'BD17'\n",
    "    \n",
    "sn.mask_data(snr=5)\n",
    "sn.normalize_data()\n",
    "sn.fit_lcs()"
   ]
  },
  {
   "cell_type": "code",
   "execution_count": null,
   "metadata": {},
   "outputs": [],
   "source": [
    "new_palette = [plt.get_cmap('Dark2')(i) for i in np.arange(8)] + [plt.get_cmap('Set1')(i) for i in np.arange(8)]\n",
    "band_list = sn.bands\n",
    "\n",
    "fig, ax = plt.subplots(figsize=(8,6))\n",
    "for i, band in enumerate(band_list):\n",
    "    ylabel = 'Apparent Magnitude'\n",
    "    mask = np.where(sn.data[band]['flux'] > 0)\n",
    "    mjd = sn.data[band]['mjd'][mask] - 53270\n",
    "    mag = -2.5*np.log10(sn.data[band]['flux'][mask]) + sn.data[band]['zp']\n",
    "    err = np.abs(2.5*sn.data[band]['flux_err'][mask]/(sn.data[band]['flux'][mask]*np.log(10)))\n",
    "\n",
    "    ax.errorbar(mjd[::4], mag[::4], err[::4], fmt='o', capsize=3, capthick=2, ms=24, mec='k', elinewidth=3, label=band, color=new_palette[i])\n",
    "\n",
    "fig.patch.set_visible(False)\n",
    "ax.axis('off')\n",
    "\n",
    "fig.tight_layout()\n",
    "plt.xlim(-5, 40)\n",
    "plt.ylim(15, 20)\n",
    "plt.gca().invert_yaxis()\n",
    "plt.savefig(f'snia_lc.png')\n",
    "\n",
    "plt.show()"
   ]
  },
  {
   "cell_type": "code",
   "execution_count": null,
   "metadata": {},
   "outputs": [],
   "source": [
    "new_palette = [plt.get_cmap('Dark2')(i) for i in np.arange(8)] + [plt.get_cmap('Set1')(i) for i in np.arange(8)]\n",
    "\n",
    "\n",
    "fig, ax = plt.subplots(figsize=(8, 6))\n",
    "for i, band in enumerate(sn.bands):\n",
    "    \n",
    "    time, flux, std = np.copy(sn.lc_fits[band]['mjd']), np.copy(sn.lc_fits[band]['flux']), np.copy(sn.lc_fits[band]['std'])\n",
    "    data_time, data_flux, data_std = np.copy(sn.data[band]['mjd']), np.copy(sn.data[band]['flux']), np.copy(sn.data[band]['flux_err'])\n",
    "\n",
    "    # avoid non-positive numbers in logarithm\n",
    "    fit_mask = flux > 0\n",
    "    time, flux, std = time[fit_mask] - 53270, flux[fit_mask], std[fit_mask]\n",
    "    data_mask = data_flux > 0\n",
    "    data_time, data_flux, data_std = data_time[data_mask] - 53270, data_flux[data_mask], data_std[data_mask]\n",
    "\n",
    "    mag = -2.5*np.log10(flux) + sn.data[band]['zp']\n",
    "    err = np.abs(2.5*std/(flux*np.log(10)))\n",
    "    data_mag = -2.5*np.log10(data_flux) + sn.data[band]['zp']\n",
    "    data_err = np.abs(2.5*data_std/(data_flux*np.log(10)))\n",
    "\n",
    "    ax.errorbar(data_time[::4], data_mag[::4], data_err[::4], fmt='o', mec='k', capsize=3, capthick=2, ms=24,\n",
    "                elinewidth=3, color=new_palette[i],label=band)\n",
    "    ax.plot(time, mag,'-', color=new_palette[i], lw=10, zorder=16)\n",
    "    ax.fill_between(time, mag-err, mag+err, alpha=0.5, color=new_palette[i])\n",
    "\n",
    "fig.patch.set_visible(False)\n",
    "ax.axis('off')\n",
    "\n",
    "plt.gca().invert_yaxis()\n",
    "fig.tight_layout()\n",
    "plt.xlim(-5, 40)\n",
    "plt.ylim(15, 20)\n",
    "plt.gca().invert_yaxis()\n",
    "plt.savefig(f'lc_fits.png')\n",
    "\n",
    "plt.show()"
   ]
  },
  {
   "cell_type": "code",
   "execution_count": null,
   "metadata": {},
   "outputs": [],
   "source": [
    "df = sn.sed['info'][sn.sed['info'].phase==0]\n",
    "x, y = df.wave, df.flux\n",
    "\n",
    "fig, ax = plt.subplots(figsize=(12, 8))\n",
    "\n",
    "ax.plot(x, y, lw=18, c='k')\n",
    "for i, band in enumerate(sn.bands):\n",
    "    filt_wave, filt_trans = sn.filters[band]['wave'], sn.filters[band]['transmission']\n",
    "    eff_wave = sn.filters[band]['eff_wave']\n",
    "    flux = pisco.filter_utils.integrate_filter(x, y, filt_wave, filt_trans)\n",
    "    \n",
    "    ax.errorbar(eff_wave, flux, yerr=0.0, fmt='o', mec='k', capsize=3, capthick=2, ms=45,\n",
    "                elinewidth=3, color=new_palette[i])\n",
    "    \n",
    "fig.patch.set_visible(False)\n",
    "ax.axis('off')\n",
    "\n",
    "fig.tight_layout()\n",
    "plt.xlim(2000, 9000)\n",
    "path = 'anaconda3/envs/pisco/lib/python3.6/site-packages/resources/piscola/lightcurves'\n",
    "plt.savefig(f'sed_match.png')\n",
    "plt.show()"
   ]
  },
  {
   "cell_type": "code",
   "execution_count": null,
   "metadata": {},
   "outputs": [],
   "source": [
    "cmap = cm.get_cmap('viridis')\n",
    "\n",
    "z_range = np.linspace(0, 0.5, 5)\n",
    "df = sn.sed['info'][sn.sed['info'].phase==0]\n",
    "x, y = df.wave, df.flux\n",
    "\n",
    "fig, ax = plt.subplots(figsize=(12, 8))\n",
    "for i, z in enumerate(z_range):\n",
    "    ax.plot(x*(1+z), y/(1+z), lw=18, c=cmap(z*2))\n",
    "    \n",
    "fig.patch.set_visible(False)\n",
    "ax.axis('off')\n",
    "\n",
    "fig.tight_layout()\n",
    "plt.xlim(2000, 12000)\n",
    "plt.savefig(f'kcorr.png')\n",
    "plt.show()"
   ]
  }
 ],
 "metadata": {
  "kernelspec": {
   "display_name": "Python 3",
   "language": "python",
   "name": "python3"
  },
  "language_info": {
   "codemirror_mode": {
    "name": "ipython",
    "version": 3
   },
   "file_extension": ".py",
   "mimetype": "text/x-python",
   "name": "python",
   "nbconvert_exporter": "python",
   "pygments_lexer": "ipython3",
   "version": "3.6.7"
  }
 },
 "nbformat": 4,
 "nbformat_minor": 4
}
